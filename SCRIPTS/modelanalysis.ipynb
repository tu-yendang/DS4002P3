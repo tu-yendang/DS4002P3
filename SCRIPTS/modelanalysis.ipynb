{
 "cells": [
  {
   "cell_type": "markdown",
   "id": "5848ec2f",
   "metadata": {},
   "source": [
    "# Model Analysis:\n",
    "This file reads in images and trains the training data by running it on ResNet50 to classify images. For each epoch trained, it will identify loss and accuracy throughout, and outputs the information given in the final_training_CNN.csv file."
   ]
  },
  {
   "cell_type": "code",
   "execution_count": null,
   "id": "9b7078d8-076b-49ba-98a9-541bd8e1fd3e",
   "metadata": {
    "tags": []
   },
   "outputs": [],
   "source": [
    "# import statements\n",
    "import os\n",
    "import pandas as pd\n",
    "import requests\n",
    "import csv"
   ]
  },
  {
   "cell_type": "code",
   "execution_count": null,
   "id": "25cb3115-8db8-433d-a88b-8c2d9f347e73",
   "metadata": {
    "tags": []
   },
   "outputs": [
    {
     "name": "stderr",
     "output_type": "stream",
     "text": [
      "2024-11-18 15:57:39.800047: I tensorflow/core/util/port.cc:153] oneDNN custom operations are on. You may see slightly different numerical results due to floating-point round-off errors from different computation orders. To turn them off, set the environment variable `TF_ENABLE_ONEDNN_OPTS=0`.\n",
      "2024-11-18 15:57:39.845777: I external/local_xla/xla/tsl/cuda/cudart_stub.cc:32] Could not find cuda drivers on your machine, GPU will not be used.\n",
      "2024-11-18 15:57:41.356416: I external/local_xla/xla/tsl/cuda/cudart_stub.cc:32] Could not find cuda drivers on your machine, GPU will not be used.\n",
      "2024-11-18 15:57:41.655143: E external/local_xla/xla/stream_executor/cuda/cuda_fft.cc:477] Unable to register cuFFT factory: Attempting to register factory for plugin cuFFT when one has already been registered\n",
      "WARNING: All log messages before absl::InitializeLog() is called are written to STDERR\n",
      "E0000 00:00:1731963461.986267   83796 cuda_dnn.cc:8310] Unable to register cuDNN factory: Attempting to register factory for plugin cuDNN when one has already been registered\n",
      "E0000 00:00:1731963462.177341   83796 cuda_blas.cc:1418] Unable to register cuBLAS factory: Attempting to register factory for plugin cuBLAS when one has already been registered\n",
      "2024-11-18 15:57:43.092548: I tensorflow/core/platform/cpu_feature_guard.cc:210] This TensorFlow binary is optimized to use available CPU instructions in performance-critical operations.\n",
      "To enable the following instructions: AVX2 AVX512F AVX512_VNNI FMA, in other operations, rebuild TensorFlow with the appropriate compiler flags.\n"
     ]
    }
   ],
   "source": [
    "# import statements cont.\n",
    "from tqdm import tqdm\n",
    "import tensorflow as tf\n",
    "from tensorflow.keras.preprocessing.image import ImageDataGenerator\n",
    "from tensorflow.keras.applications import ResNet50\n",
    "from tensorflow.keras.layers import Dense, GlobalAveragePooling2D\n",
    "from tensorflow.keras.models import Model\n",
    "from tensorflow.keras.optimizers import Adam\n",
    "from sklearn.model_selection import train_test_split\n",
    "from tensorflow.keras.optimizers import RMSprop"
   ]
  },
  {
   "cell_type": "code",
   "execution_count": 3,
   "id": "6e33f11b-8fce-46c5-a1a2-54eba5d2e31d",
   "metadata": {
    "tags": []
   },
   "outputs": [],
   "source": [
    "# Load the CSV data\n",
    "train_df = pd.read_csv('train_updated_book_covers.csv')\n",
    "test_df = pd.read_csv('test_updated_book_covers.csv')\n",
    "\n",
    "# Split the training data into train and validation sets\n",
    "train_df, val_df = train_test_split(train_df, test_size=0.15, random_state=42, stratify=train_df['Genre'])"
   ]
  },
  {
   "cell_type": "code",
   "execution_count": 4,
   "id": "cf4710b4-4961-48b7-bf13-5ac34711f3c7",
   "metadata": {
    "tags": []
   },
   "outputs": [
    {
     "name": "stderr",
     "output_type": "stream",
     "text": [
      "1087it [00:54, 19.84it/s]\n",
      "192it [00:10, 18.52it/s]\n",
      "260it [00:10, 24.10it/s]\n"
     ]
    }
   ],
   "source": [
    "# Directory to save downloaded images\n",
    "image_dir = 'book_cover_images'\n",
    "os.makedirs(image_dir, exist_ok=True)\n",
    "\n",
    "# Function to download an image and save it locally\n",
    "def download_image(url, save_path):\n",
    "    try:\n",
    "        response = requests.get(url, stream=True)\n",
    "        if response.status_code == 200:\n",
    "            with open(save_path, 'wb') as f:\n",
    "                for chunk in response:\n",
    "                    f.write(chunk)\n",
    "        return save_path\n",
    "    except Exception as e:\n",
    "        print(f\"Failed to download {url}: {e}\")\n",
    "        return None\n",
    "\n",
    "# Download each image and save the local path in the DataFrame\n",
    "train_df['Local Image Path'] = [\n",
    "    download_image(url, os.path.join(image_dir, f\"book_cover_{idx}.jpg\"))\n",
    "    for idx, url in tqdm(enumerate(train_df['Book Cover Image URL']))\n",
    "]\n",
    "\n",
    "val_df['Local Image Path'] = [\n",
    "    download_image(url, os.path.join(image_dir, f\"val_book_cover_{idx}.jpg\"))\n",
    "    for idx, url in tqdm(enumerate(val_df['Book Cover Image URL']))\n",
    "]\n",
    "\n",
    "test_df['Local Image Path'] = [\n",
    "    download_image(url, os.path.join(image_dir, f\"test_book_cover_{idx}.jpg\"))\n",
    "    for idx, url in tqdm(enumerate(test_df['Book Cover Image URL']))\n",
    "]\n"
   ]
  },
  {
   "cell_type": "code",
   "execution_count": 5,
   "id": "bd621184-99f6-4e97-8a7b-050364f85792",
   "metadata": {
    "tags": []
   },
   "outputs": [],
   "source": [
    "#print(test_df)"
   ]
  },
  {
   "cell_type": "code",
   "execution_count": 6,
   "id": "c8b92f1c-dfc8-4653-8cf0-6b2a091febc5",
   "metadata": {
    "tags": []
   },
   "outputs": [
    {
     "name": "stdout",
     "output_type": "stream",
     "text": [
      "Found 1087 validated image filenames belonging to 13 classes.\n",
      "Found 192 validated image filenames belonging to 13 classes.\n",
      "Found 260 validated image filenames belonging to 13 classes.\n"
     ]
    }
   ],
   "source": [
    "# Define image dimensions and batch size\n",
    "img_height, img_width = 224, 224\n",
    "batch_size = 32\n",
    "\n",
    "# Data augmentation for training\n",
    "train_datagen = ImageDataGenerator(\n",
    "    rescale=1.0 / 255,\n",
    "    rotation_range=20,\n",
    "    width_shift_range=0.2,\n",
    "    height_shift_range=0.2,\n",
    "    shear_range=0.2,\n",
    "    zoom_range=0.2,\n",
    "    horizontal_flip=True\n",
    ")\n",
    "\n",
    "# Only rescale validation and test data\n",
    "val_datagen = ImageDataGenerator(rescale=1.0 / 255)\n",
    "\n",
    "# Load training data from the DataFrame\n",
    "train_generator = train_datagen.flow_from_dataframe(\n",
    "    dataframe=train_df,\n",
    "    x_col='Local Image Path',  # Use local paths\n",
    "    y_col='Genre',\n",
    "    target_size=(img_height, img_width),\n",
    "    batch_size=batch_size,\n",
    "    class_mode='categorical'\n",
    ")\n",
    "\n",
    "# Load validation data from the DataFrame\n",
    "val_generator = val_datagen.flow_from_dataframe(\n",
    "    dataframe=val_df,\n",
    "    x_col='Local Image Path',\n",
    "    y_col='Genre',\n",
    "    target_size=(img_height, img_width),\n",
    "    batch_size=batch_size,\n",
    "    class_mode='categorical'\n",
    ")\n",
    "\n",
    "# Load test data from the DataFrame\n",
    "test_generator = val_datagen.flow_from_dataframe(\n",
    "    dataframe=test_df,\n",
    "    x_col='Local Image Path',\n",
    "    y_col='Genre',\n",
    "    target_size=(img_height, img_width),\n",
    "    batch_size=batch_size,\n",
    "    class_mode='categorical'\n",
    ")\n"
   ]
  },
  {
   "cell_type": "code",
   "execution_count": 7,
   "id": "8977017a-3a01-420d-92fc-f86bf9ccde91",
   "metadata": {
    "tags": []
   },
   "outputs": [
    {
     "name": "stderr",
     "output_type": "stream",
     "text": [
      "2024-11-18 15:59:21.497381: E external/local_xla/xla/stream_executor/cuda/cuda_driver.cc:152] failed call to cuInit: INTERNAL: CUDA error: Failed call to cuInit: CUDA_ERROR_NO_DEVICE: no CUDA-capable device is detected\n"
     ]
    }
   ],
   "source": [
    "# Load pre-trained ResNet50 without the top layer\n",
    "base_model = ResNet50(weights='imagenet', include_top=False, input_shape=(img_height, img_width, 3))\n",
    "base_model.trainable = False  # Freeze ResNet50 layers\n",
    "\n",
    "\n",
    "#numclasses manually:\n",
    "num_classes = len(train_generator.class_indices)\n",
    "\n",
    "# Add custom classification layers\n",
    "x = base_model.output\n",
    "x = GlobalAveragePooling2D()(x)\n",
    "x = Dense(1024, activation='relu')(x)\n",
    "x = Dense(512, activation='relu')(x)\n",
    "#predictions = Dense(train_generator.num_classes, activation='softmax')(x)  # Output layer for genres\n",
    "predictions = Dense(num_classes, activation='softmax')(x)\n",
    "# Build the model\n",
    "model = Model(inputs=base_model.input, outputs=predictions)\n"
   ]
  },
  {
   "cell_type": "code",
   "execution_count": 8,
   "id": "73b9205d-eb49-4a51-85e1-4fd90306912c",
   "metadata": {
    "tags": []
   },
   "outputs": [],
   "source": [
    "#compiling the model\n",
    "model.compile(optimizer=RMSprop(learning_rate=0.001),\n",
    "              loss='categorical_crossentropy',\n",
    "              metrics=['accuracy'])"
   ]
  },
  {
   "cell_type": "code",
   "execution_count": null,
   "id": "7a111413-74f6-4abd-b502-55033888ecbc",
   "metadata": {
    "tags": []
   },
   "outputs": [
    {
     "name": "stderr",
     "output_type": "stream",
     "text": [
      "/home/jpk5nq/.local/lib/python3.11/site-packages/keras/src/trainers/data_adapters/py_dataset_adapter.py:121: UserWarning: Your `PyDataset` class should call `super().__init__(**kwargs)` in its constructor. `**kwargs` can include `workers`, `use_multiprocessing`, `max_queue_size`. Do not pass these arguments to `fit()`, as they will be ignored.\n",
      "  self._warn_if_super_not_called()\n"
     ]
    },
    {
     "name": "stdout",
     "output_type": "stream",
     "text": [
      "Epoch 1/100\n",
      "\u001b[1m34/34\u001b[0m \u001b[32m━━━━━━━━━━━━━━━━━━━━\u001b[0m\u001b[37m\u001b[0m \u001b[1m113s\u001b[0m 3s/step - accuracy: 0.0761 - loss: 3.2630 - val_accuracy: 0.1094 - val_loss: 2.5763\n",
      "Epoch 2/100\n",
      "\u001b[1m34/34\u001b[0m \u001b[32m━━━━━━━━━━━━━━━━━━━━\u001b[0m\u001b[37m\u001b[0m \u001b[1m105s\u001b[0m 3s/step - accuracy: 0.0910 - loss: 2.5747 - val_accuracy: 0.1042 - val_loss: 2.5697\n",
      "Epoch 3/100\n",
      "\u001b[1m34/34\u001b[0m \u001b[32m━━━━━━━━━━━━━━━━━━━━\u001b[0m\u001b[37m\u001b[0m \u001b[1m105s\u001b[0m 3s/step - accuracy: 0.0950 - loss: 2.5525 - val_accuracy: 0.1198 - val_loss: 2.5729\n",
      "Epoch 4/100\n",
      "\u001b[1m34/34\u001b[0m \u001b[32m━━━━━━━━━━━━━━━━━━━━\u001b[0m\u001b[37m\u001b[0m \u001b[1m106s\u001b[0m 3s/step - accuracy: 0.1018 - loss: 2.5694 - val_accuracy: 0.1042 - val_loss: 2.5561\n",
      "Epoch 5/100\n",
      "\u001b[1m34/34\u001b[0m \u001b[32m━━━━━━━━━━━━━━━━━━━━\u001b[0m\u001b[37m\u001b[0m \u001b[1m105s\u001b[0m 3s/step - accuracy: 0.1116 - loss: 2.5389 - val_accuracy: 0.0990 - val_loss: 2.5594\n",
      "Epoch 6/100\n",
      "\u001b[1m34/34\u001b[0m \u001b[32m━━━━━━━━━━━━━━━━━━━━\u001b[0m\u001b[37m\u001b[0m \u001b[1m105s\u001b[0m 3s/step - accuracy: 0.1018 - loss: 2.5487 - val_accuracy: 0.0938 - val_loss: 2.5433\n",
      "Epoch 7/100\n",
      "\u001b[1m34/34\u001b[0m \u001b[32m━━━━━━━━━━━━━━━━━━━━\u001b[0m\u001b[37m\u001b[0m \u001b[1m104s\u001b[0m 3s/step - accuracy: 0.1029 - loss: 2.5224 - val_accuracy: 0.1042 - val_loss: 2.5427\n",
      "Epoch 8/100\n",
      "\u001b[1m34/34\u001b[0m \u001b[32m━━━━━━━━━━━━━━━━━━━━\u001b[0m\u001b[37m\u001b[0m \u001b[1m105s\u001b[0m 3s/step - accuracy: 0.1181 - loss: 2.5128 - val_accuracy: 0.0885 - val_loss: 2.5789\n",
      "Epoch 9/100\n",
      "\u001b[1m34/34\u001b[0m \u001b[32m━━━━━━━━━━━━━━━━━━━━\u001b[0m\u001b[37m\u001b[0m \u001b[1m104s\u001b[0m 3s/step - accuracy: 0.1290 - loss: 2.5027 - val_accuracy: 0.0938 - val_loss: 2.5410\n",
      "Epoch 10/100\n",
      "\u001b[1m34/34\u001b[0m \u001b[32m━━━━━━━━━━━━━━━━━━━━\u001b[0m\u001b[37m\u001b[0m \u001b[1m103s\u001b[0m 3s/step - accuracy: 0.1212 - loss: 2.4979 - val_accuracy: 0.1250 - val_loss: 2.5160\n",
      "Epoch 11/100\n",
      "\u001b[1m34/34\u001b[0m \u001b[32m━━━━━━━━━━━━━━━━━━━━\u001b[0m\u001b[37m\u001b[0m \u001b[1m104s\u001b[0m 3s/step - accuracy: 0.1336 - loss: 2.5022 - val_accuracy: 0.1042 - val_loss: 2.5286\n",
      "Epoch 12/100\n",
      "\u001b[1m34/34\u001b[0m \u001b[32m━━━━━━━━━━━━━━━━━━━━\u001b[0m\u001b[37m\u001b[0m \u001b[1m105s\u001b[0m 3s/step - accuracy: 0.1241 - loss: 2.4914 - val_accuracy: 0.1406 - val_loss: 2.5387\n",
      "Epoch 13/100\n",
      "\u001b[1m34/34\u001b[0m \u001b[32m━━━━━━━━━━━━━━━━━━━━\u001b[0m\u001b[37m\u001b[0m \u001b[1m105s\u001b[0m 3s/step - accuracy: 0.1231 - loss: 2.4836 - val_accuracy: 0.0938 - val_loss: 2.5540\n",
      "Epoch 14/100\n",
      "\u001b[1m34/34\u001b[0m \u001b[32m━━━━━━━━━━━━━━━━━━━━\u001b[0m\u001b[37m\u001b[0m \u001b[1m106s\u001b[0m 3s/step - accuracy: 0.1424 - loss: 2.4721 - val_accuracy: 0.1198 - val_loss: 2.4976\n",
      "Epoch 15/100\n",
      "\u001b[1m34/34\u001b[0m \u001b[32m━━━━━━━━━━━━━━━━━━━━\u001b[0m\u001b[37m\u001b[0m \u001b[1m105s\u001b[0m 3s/step - accuracy: 0.1657 - loss: 2.4596 - val_accuracy: 0.0885 - val_loss: 2.5383\n",
      "Epoch 16/100\n",
      "\u001b[1m34/34\u001b[0m \u001b[32m━━━━━━━━━━━━━━━━━━━━\u001b[0m\u001b[37m\u001b[0m \u001b[1m105s\u001b[0m 3s/step - accuracy: 0.1384 - loss: 2.4872 - val_accuracy: 0.1354 - val_loss: 2.5722\n",
      "Epoch 17/100\n",
      "\u001b[1m34/34\u001b[0m \u001b[32m━━━━━━━━━━━━━━━━━━━━\u001b[0m\u001b[37m\u001b[0m \u001b[1m105s\u001b[0m 3s/step - accuracy: 0.1462 - loss: 2.4589 - val_accuracy: 0.1250 - val_loss: 2.5258\n",
      "Epoch 18/100\n",
      "\u001b[1m34/34\u001b[0m \u001b[32m━━━━━━━━━━━━━━━━━━━━\u001b[0m\u001b[37m\u001b[0m \u001b[1m104s\u001b[0m 3s/step - accuracy: 0.1495 - loss: 2.4839 - val_accuracy: 0.0938 - val_loss: 2.5664\n",
      "Epoch 19/100\n",
      "\u001b[1m34/34\u001b[0m \u001b[32m━━━━━━━━━━━━━━━━━━━━\u001b[0m\u001b[37m\u001b[0m \u001b[1m105s\u001b[0m 3s/step - accuracy: 0.1326 - loss: 2.4727 - val_accuracy: 0.1354 - val_loss: 2.5165\n",
      "Epoch 20/100\n",
      "\u001b[1m34/34\u001b[0m \u001b[32m━━━━━━━━━━━━━━━━━━━━\u001b[0m\u001b[37m\u001b[0m \u001b[1m107s\u001b[0m 3s/step - accuracy: 0.1575 - loss: 2.4574 - val_accuracy: 0.1250 - val_loss: 2.5289\n",
      "Epoch 21/100\n",
      "\u001b[1m34/34\u001b[0m \u001b[32m━━━━━━━━━━━━━━━━━━━━\u001b[0m\u001b[37m\u001b[0m \u001b[1m107s\u001b[0m 3s/step - accuracy: 0.1475 - loss: 2.4596 - val_accuracy: 0.1094 - val_loss: 2.5497\n",
      "Epoch 22/100\n",
      "\u001b[1m34/34\u001b[0m \u001b[32m━━━━━━━━━━━━━━━━━━━━\u001b[0m\u001b[37m\u001b[0m \u001b[1m106s\u001b[0m 3s/step - accuracy: 0.1770 - loss: 2.4140 - val_accuracy: 0.1302 - val_loss: 2.5061\n",
      "Epoch 23/100\n",
      "\u001b[1m34/34\u001b[0m \u001b[32m━━━━━━━━━━━━━━━━━━━━\u001b[0m\u001b[37m\u001b[0m \u001b[1m107s\u001b[0m 3s/step - accuracy: 0.1401 - loss: 2.4399 - val_accuracy: 0.1146 - val_loss: 2.5323\n",
      "Epoch 24/100\n",
      "\u001b[1m34/34\u001b[0m \u001b[32m━━━━━━━━━━━━━━━━━━━━\u001b[0m\u001b[37m\u001b[0m \u001b[1m107s\u001b[0m 3s/step - accuracy: 0.1385 - loss: 2.4200 - val_accuracy: 0.1250 - val_loss: 2.5791\n",
      "Epoch 25/100\n",
      "\u001b[1m34/34\u001b[0m \u001b[32m━━━━━━━━━━━━━━━━━━━━\u001b[0m\u001b[37m\u001b[0m \u001b[1m107s\u001b[0m 3s/step - accuracy: 0.1600 - loss: 2.4236 - val_accuracy: 0.1250 - val_loss: 2.5564\n",
      "Epoch 26/100\n",
      "\u001b[1m34/34\u001b[0m \u001b[32m━━━━━━━━━━━━━━━━━━━━\u001b[0m\u001b[37m\u001b[0m \u001b[1m107s\u001b[0m 3s/step - accuracy: 0.1592 - loss: 2.4008 - val_accuracy: 0.1198 - val_loss: 2.5356\n",
      "Epoch 27/100\n",
      "\u001b[1m34/34\u001b[0m \u001b[32m━━━━━━━━━━━━━━━━━━━━\u001b[0m\u001b[37m\u001b[0m \u001b[1m106s\u001b[0m 3s/step - accuracy: 0.1798 - loss: 2.4126 - val_accuracy: 0.1250 - val_loss: 2.5218\n",
      "Epoch 28/100\n",
      "\u001b[1m34/34\u001b[0m \u001b[32m━━━━━━━━━━━━━━━━━━━━\u001b[0m\u001b[37m\u001b[0m \u001b[1m105s\u001b[0m 3s/step - accuracy: 0.1700 - loss: 2.4231 - val_accuracy: 0.1354 - val_loss: 2.5313\n",
      "Epoch 29/100\n",
      "\u001b[1m34/34\u001b[0m \u001b[32m━━━━━━━━━━━━━━━━━━━━\u001b[0m\u001b[37m\u001b[0m \u001b[1m105s\u001b[0m 3s/step - accuracy: 0.1826 - loss: 2.4151 - val_accuracy: 0.1562 - val_loss: 2.5696\n",
      "Epoch 30/100\n",
      "\u001b[1m34/34\u001b[0m \u001b[32m━━━━━━━━━━━━━━━━━━━━\u001b[0m\u001b[37m\u001b[0m \u001b[1m104s\u001b[0m 3s/step - accuracy: 0.1843 - loss: 2.4048 - val_accuracy: 0.1198 - val_loss: 2.6035\n",
      "Epoch 31/100\n",
      "\u001b[1m34/34\u001b[0m \u001b[32m━━━━━━━━━━━━━━━━━━━━\u001b[0m\u001b[37m\u001b[0m \u001b[1m106s\u001b[0m 3s/step - accuracy: 0.1843 - loss: 2.4155 - val_accuracy: 0.1510 - val_loss: 2.6144\n",
      "Epoch 32/100\n",
      "\u001b[1m34/34\u001b[0m \u001b[32m━━━━━━━━━━━━━━━━━━━━\u001b[0m\u001b[37m\u001b[0m \u001b[1m105s\u001b[0m 3s/step - accuracy: 0.1574 - loss: 2.4021 - val_accuracy: 0.1406 - val_loss: 2.5909\n",
      "Epoch 33/100\n",
      "\u001b[1m34/34\u001b[0m \u001b[32m━━━━━━━━━━━━━━━━━━━━\u001b[0m\u001b[37m\u001b[0m \u001b[1m106s\u001b[0m 3s/step - accuracy: 0.1658 - loss: 2.4117 - val_accuracy: 0.1354 - val_loss: 2.5309\n",
      "Epoch 34/100\n",
      "\u001b[1m34/34\u001b[0m \u001b[32m━━━━━━━━━━━━━━━━━━━━\u001b[0m\u001b[37m\u001b[0m \u001b[1m107s\u001b[0m 3s/step - accuracy: 0.1461 - loss: 2.3956 - val_accuracy: 0.1146 - val_loss: 2.5163\n",
      "Epoch 35/100\n",
      "\u001b[1m34/34\u001b[0m \u001b[32m━━━━━━━━━━━━━━━━━━━━\u001b[0m\u001b[37m\u001b[0m \u001b[1m104s\u001b[0m 3s/step - accuracy: 0.1704 - loss: 2.4056 - val_accuracy: 0.1510 - val_loss: 2.5419\n",
      "Epoch 36/100\n",
      "\u001b[1m34/34\u001b[0m \u001b[32m━━━━━━━━━━━━━━━━━━━━\u001b[0m\u001b[37m\u001b[0m \u001b[1m104s\u001b[0m 3s/step - accuracy: 0.1857 - loss: 2.3746 - val_accuracy: 0.1198 - val_loss: 2.5284\n",
      "Epoch 37/100\n",
      "\u001b[1m34/34\u001b[0m \u001b[32m━━━━━━━━━━━━━━━━━━━━\u001b[0m\u001b[37m\u001b[0m \u001b[1m106s\u001b[0m 3s/step - accuracy: 0.1927 - loss: 2.3565 - val_accuracy: 0.1354 - val_loss: 2.6121\n",
      "Epoch 38/100\n",
      "\u001b[1m34/34\u001b[0m \u001b[32m━━━━━━━━━━━━━━━━━━━━\u001b[0m\u001b[37m\u001b[0m \u001b[1m106s\u001b[0m 3s/step - accuracy: 0.1688 - loss: 2.3790 - val_accuracy: 0.1458 - val_loss: 2.5895\n",
      "Epoch 39/100\n",
      "\u001b[1m34/34\u001b[0m \u001b[32m━━━━━━━━━━━━━━━━━━━━\u001b[0m\u001b[37m\u001b[0m \u001b[1m106s\u001b[0m 3s/step - accuracy: 0.2012 - loss: 2.3649 - val_accuracy: 0.1302 - val_loss: 2.5168\n",
      "Epoch 40/100\n",
      "\u001b[1m34/34\u001b[0m \u001b[32m━━━━━━━━━━━━━━━━━━━━\u001b[0m\u001b[37m\u001b[0m \u001b[1m106s\u001b[0m 3s/step - accuracy: 0.1982 - loss: 2.3507 - val_accuracy: 0.1771 - val_loss: 2.5404\n",
      "Epoch 41/100\n",
      "\u001b[1m34/34\u001b[0m \u001b[32m━━━━━━━━━━━━━━━━━━━━\u001b[0m\u001b[37m\u001b[0m \u001b[1m106s\u001b[0m 3s/step - accuracy: 0.1833 - loss: 2.3811 - val_accuracy: 0.1146 - val_loss: 2.5795\n",
      "Epoch 42/100\n",
      "\u001b[1m34/34\u001b[0m \u001b[32m━━━━━━━━━━━━━━━━━━━━\u001b[0m\u001b[37m\u001b[0m \u001b[1m105s\u001b[0m 3s/step - accuracy: 0.1592 - loss: 2.3895 - val_accuracy: 0.1250 - val_loss: 2.6025\n",
      "Epoch 43/100\n",
      "\u001b[1m34/34\u001b[0m \u001b[32m━━━━━━━━━━━━━━━━━━━━\u001b[0m\u001b[37m\u001b[0m \u001b[1m106s\u001b[0m 3s/step - accuracy: 0.1688 - loss: 2.3690 - val_accuracy: 0.1094 - val_loss: 2.5649\n",
      "Epoch 44/100\n",
      "\u001b[1m34/34\u001b[0m \u001b[32m━━━━━━━━━━━━━━━━━━━━\u001b[0m\u001b[37m\u001b[0m \u001b[1m105s\u001b[0m 3s/step - accuracy: 0.1848 - loss: 2.3632 - val_accuracy: 0.1250 - val_loss: 2.5444\n",
      "Epoch 45/100\n",
      "\u001b[1m34/34\u001b[0m \u001b[32m━━━━━━━━━━━━━━━━━━━━\u001b[0m\u001b[37m\u001b[0m \u001b[1m104s\u001b[0m 3s/step - accuracy: 0.2147 - loss: 2.3122 - val_accuracy: 0.1562 - val_loss: 2.6235\n",
      "Epoch 46/100\n",
      "\u001b[1m34/34\u001b[0m \u001b[32m━━━━━━━━━━━━━━━━━━━━\u001b[0m\u001b[37m\u001b[0m \u001b[1m104s\u001b[0m 3s/step - accuracy: 0.2160 - loss: 2.3399 - val_accuracy: 0.1354 - val_loss: 2.5794\n",
      "Epoch 47/100\n",
      "\u001b[1m34/34\u001b[0m \u001b[32m━━━━━━━━━━━━━━━━━━━━\u001b[0m\u001b[37m\u001b[0m \u001b[1m104s\u001b[0m 3s/step - accuracy: 0.1633 - loss: 2.3673 - val_accuracy: 0.1302 - val_loss: 2.5720\n",
      "Epoch 48/100\n",
      "\u001b[1m34/34\u001b[0m \u001b[32m━━━━━━━━━━━━━━━━━━━━\u001b[0m\u001b[37m\u001b[0m \u001b[1m104s\u001b[0m 3s/step - accuracy: 0.2028 - loss: 2.3503 - val_accuracy: 0.1302 - val_loss: 2.5152\n",
      "Epoch 49/100\n",
      "\u001b[1m34/34\u001b[0m \u001b[32m━━━━━━━━━━━━━━━━━━━━\u001b[0m\u001b[37m\u001b[0m \u001b[1m104s\u001b[0m 3s/step - accuracy: 0.1810 - loss: 2.3563 - val_accuracy: 0.1719 - val_loss: 2.5669\n",
      "Epoch 50/100\n",
      "\u001b[1m34/34\u001b[0m \u001b[32m━━━━━━━━━━━━━━━━━━━━\u001b[0m\u001b[37m\u001b[0m \u001b[1m104s\u001b[0m 3s/step - accuracy: 0.1973 - loss: 2.3343 - val_accuracy: 0.1562 - val_loss: 2.5840\n",
      "Epoch 51/100\n",
      "\u001b[1m34/34\u001b[0m \u001b[32m━━━━━━━━━━━━━━━━━━━━\u001b[0m\u001b[37m\u001b[0m \u001b[1m104s\u001b[0m 3s/step - accuracy: 0.1896 - loss: 2.3425 - val_accuracy: 0.1302 - val_loss: 2.6234\n",
      "Epoch 52/100\n",
      "\u001b[1m22/34\u001b[0m \u001b[32m━━━━━━━━━━━━\u001b[0m\u001b[37m━━━━━━━━\u001b[0m \u001b[1m31s\u001b[0m 3s/step - accuracy: 0.1889 - loss: 2.3497"
     ]
    }
   ],
   "source": [
    "#training model\n",
    "epochs = 100  # Set the number of epochs\n",
    "#100 epochs to ensure sufficient training\n",
    "\n",
    "history = model.fit(\n",
    "    train_generator,\n",
    "    epochs=epochs,\n",
    "    validation_data=val_generator\n",
    ")"
   ]
  },
  {
   "cell_type": "code",
   "execution_count": null,
   "id": "8f364ab3-4710-43eb-9291-550482c2ed7b",
   "metadata": {
    "tags": []
   },
   "outputs": [],
   "source": [
    "#evaluating and printing accuracy\n",
    "test_loss, test_accuracy = model.evaluate(test_generator)\n",
    "print(f\"Test Accuracy: {test_accuracy:.2f}\")"
   ]
  },
  {
   "cell_type": "code",
   "execution_count": null,
   "id": "598ce0fd-b9e8-48b7-9111-e85eccd616f9",
   "metadata": {},
   "outputs": [],
   "source": [
    "# accessing the accuracy and loss values, saved in variable 'history'\n",
    "training_loss = history.history['loss']\n",
    "training_accuracy = history.history['accuracy']\n",
    "validation_loss = history.history['val_loss']\n",
    "validation_accuracy = history.history['val_accuracy']\n",
    "\n",
    "# print or save these values for analysis\n",
    "for epoch in range(len(training_loss)):\n",
    "    print(f\"Epoch {epoch+1}: \"\n",
    "          f\"Train Loss = {training_loss[epoch]:.4f}, Train Accuracy = {training_accuracy[epoch]:.4f}, \"\n",
    "          f\"Validation Loss = {validation_loss[epoch]:.4f}, Validation Accuracy = {validation_accuracy[epoch]:.4f}\")\n"
   ]
  },
  {
   "cell_type": "code",
   "execution_count": null,
   "id": "081ae5c0-efa3-47de-b72a-a65bd1944caa",
   "metadata": {},
   "outputs": [],
   "source": [
    "# write data into csv file\n",
    "filepath = 'training_CNN.csv'\n",
    "with open(filepath, mode='w', newline='') as file:\n",
    "    writer = csv.writer(file)\n",
    "    writer.writerow(['Epoch', 'Train Loss', 'Train Accuracy', 'Validation Loss', 'Validation Accuracy'])\n",
    "    for epoch in range(len(training_loss)):\n",
    "        writer.writerow([epoch+1, training_loss[epoch], training_accuracy[epoch], \n",
    "                         validation_loss[epoch], validation_accuracy[epoch]])"
   ]
  }
 ],
 "metadata": {
  "kernelspec": {
   "display_name": "Python 3 (ipykernel)",
   "language": "python",
   "name": "python3"
  },
  "language_info": {
   "codemirror_mode": {
    "name": "ipython",
    "version": 3
   },
   "file_extension": ".py",
   "mimetype": "text/x-python",
   "name": "python",
   "nbconvert_exporter": "python",
   "pygments_lexer": "ipython3",
   "version": "3.11.4"
  }
 },
 "nbformat": 4,
 "nbformat_minor": 5
}
