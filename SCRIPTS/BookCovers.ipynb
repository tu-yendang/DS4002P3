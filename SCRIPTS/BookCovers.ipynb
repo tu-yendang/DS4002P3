{
  "nbformat": 4,
  "nbformat_minor": 0,
  "metadata": {
    "colab": {
      "provenance": []
    },
    "kernelspec": {
      "name": "python3",
      "display_name": "Python 3"
    },
    "language_info": {
      "name": "python"
    }
  },
  "cells": [
    {
      "cell_type": "code",
      "execution_count": null,
      "metadata": {
        "id": "H6o9gzVQ5zsc"
      },
      "outputs": [],
      "source": [
        "import requests\n",
        "from bs4 import BeautifulSoup\n",
        "import pandas as pd\n",
        "from IPython.display import display, HTML"
      ]
    },
    {
      "cell_type": "code",
      "source": [
        "genre_links = {\n",
        "    #https://www.goodreads.com/choiceawards/best-fantasy-books-2022\n",
        "    \"Fantasy\": [\n",
        "        \"https://www.goodreads.com/choiceawards/best-fantasy-books-2023\",\n",
        "        \"https://www.goodreads.com/choiceawards/best-fantasy-books-2022\",\n",
        "        \"https://www.goodreads.com/choiceawards/best-fantasy-books-2021\",\n",
        "        \"https://www.goodreads.com/choiceawards/best-fantasy-books-2020\",\n",
        "        \"https://www.goodreads.com/choiceawards/best-fantasy-books-2019\"\n",
        "    ],\n",
        "    \"Fiction\": [\n",
        "        \"https://www.goodreads.com/choiceawards/best-fiction-books-2023\",\n",
        "        \"https://www.goodreads.com/choiceawards/best-fiction-books-2022\",\n",
        "        \"https://www.goodreads.com/choiceawards/best-fiction-books-2021\",\n",
        "        \"https://www.goodreads.com/choiceawards/best-fiction-books-2020\",\n",
        "        \"https://www.goodreads.com/choiceawards/best-fiction-books-2019\"\n",
        "    ],\n",
        "    \"Historical Fiction\": [\n",
        "        \"https://www.goodreads.com/choiceawards/best-historical-fiction-books-2023\",\n",
        "        \"https://www.goodreads.com/choiceawards/best-historical-fiction-books-2022\",\n",
        "        \"https://www.goodreads.com/choiceawards/best-historical-fiction-books-2021\",\n",
        "        \"https://www.goodreads.com/choiceawards/best-historical-fiction-books-2020\",\n",
        "        \"https://www.goodreads.com/choiceawards/best-historical-fiction-books-2019\"\n",
        "    ],\n",
        "    \"Mystery & Thriller\": [\n",
        "        \"https://www.goodreads.com/choiceawards/best-mystery-thriller-books-2023\",\n",
        "        \"https://www.goodreads.com/choiceawards/best-mystery-thriller-books-2022\",\n",
        "        \"https://www.goodreads.com/choiceawards/best-mystery-thriller-books-2021\",\n",
        "        \"https://www.goodreads.com/choiceawards/best-mystery-thriller-books-2020\",\n",
        "        \"https://www.goodreads.com/choiceawards/best-mystery-thriller-books-2019\"\n",
        "    ],\n",
        "    \"Romance\": [\n",
        "        \"https://www.goodreads.com/choiceawards/best-romance-books-2023\",\n",
        "        \"https://www.goodreads.com/choiceawards/best-romance-books-2022\",\n",
        "        \"https://www.goodreads.com/choiceawards/best-romance-books-2021\",\n",
        "        \"https://www.goodreads.com/choiceawards/best-romance-books-2020\",\n",
        "        \"https://www.goodreads.com/choiceawards/best-romance-books-2019\"\n",
        "    ],\n",
        "    \"Science Fiction\": [\n",
        "        \"https://www.goodreads.com/choiceawards/best-science-fiction-books-2023\",\n",
        "        \"https://www.goodreads.com/choiceawards/best-science-fiction-books-2022\",\n",
        "        \"https://www.goodreads.com/choiceawards/best-science-fiction-books-2021\",\n",
        "        \"https://www.goodreads.com/choiceawards/best-science-fiction-books-2020\",\n",
        "        \"https://www.goodreads.com/choiceawards/best-science-fiction-books-2019\"\n",
        "    ],\n",
        "    \"Horror\": [\n",
        "        \"https://www.goodreads.com/choiceawards/best-horror-books-2023\",\n",
        "        \"https://www.goodreads.com/choiceawards/best-horror-books-2022\",\n",
        "        \"https://www.goodreads.com/choiceawards/best-horror-books-2021\",\n",
        "        \"https://www.goodreads.com/choiceawards/best-horror-books-2020\",\n",
        "        \"https://www.goodreads.com/choiceawards/best-horror-books-2019\"\n",
        "    ],\n",
        "    \"Young Adult Fantasy\": [\n",
        "        \"https://www.goodreads.com/choiceawards/best-young-adult-fantasy-books-2023\",\n",
        "        \"https://www.goodreads.com/choiceawards/best-young-adult-fantasy-books-2022\",\n",
        "        \"https://www.goodreads.com/choiceawards/best-young-adult-fantasy-books-2021\",\n",
        "        \"https://www.goodreads.com/choiceawards/best-young-adult-fantasy-books-2020\",\n",
        "        \"https://www.goodreads.com/choiceawards/best-young-adult-fantasy-books-2019\"\n",
        "    ],\n",
        "    \"Young Adult Fiction\": [\n",
        "        \"https://www.goodreads.com/choiceawards/best-young-adult-fiction-books-2023\",\n",
        "        \"https://www.goodreads.com/choiceawards/best-young-adult-fiction-books-2022\",\n",
        "        \"https://www.goodreads.com/choiceawards/best-young-adult-fiction-books-2021\",\n",
        "        \"https://www.goodreads.com/choiceawards/best-young-adult-fiction-books-2020\",\n",
        "        \"https://www.goodreads.com/choiceawards/best-young-adult-fiction-books-2019\"\n",
        "    ],\n",
        "    \"Humor\": [\n",
        "        \"https://www.goodreads.com/choiceawards/best-humor-books-2023\",\n",
        "        \"https://www.goodreads.com/choiceawards/best-humor-books-2022\",\n",
        "        \"https://www.goodreads.com/choiceawards/best-humor-books-2021\",\n",
        "        \"https://www.goodreads.com/choiceawards/best-humor-books-2020\",\n",
        "        \"https://www.goodreads.com/choiceawards/best-humor-books-2019\"\n",
        "    ],\n",
        "    \"History & Biography\": [\n",
        "        \"https://www.goodreads.com/choiceawards/best-history-biography-books-2023\",\n",
        "        \"https://www.goodreads.com/choiceawards/best-history-biography-books-2022\",\n",
        "        \"https://www.goodreads.com/choiceawards/best-history-biography-books-2021\",\n",
        "        \"https://www.goodreads.com/choiceawards/best-history-biography-books-2020\",\n",
        "        \"https://www.goodreads.com/choiceawards/best-history-biography-books-2019\"\n",
        "    ],\n",
        "    \"Memoir and Autobiography\": [\n",
        "        \"https://www.goodreads.com/choiceawards/best-memoir-autobiography-books-2023\",\n",
        "        \"https://www.goodreads.com/choiceawards/best-memoir-autobiography-books-2022\",\n",
        "        \"https://www.goodreads.com/choiceawards/best-memoir-autobiography-books-2021\",\n",
        "        \"https://www.goodreads.com/choiceawards/best-memoir-autobiography-books-2020\",\n",
        "        \"https://www.goodreads.com/choiceawards/best-memoir-autobiography-books-2019\"\n",
        "    ],\n",
        "    \"Nonfiction\": [\n",
        "        \"https://www.goodreads.com/choiceawards/best-nonfiction-books-2023\",\n",
        "        \"https://www.goodreads.com/choiceawards/best-nonfiction-books-2022\",\n",
        "        \"https://www.goodreads.com/choiceawards/best-nonfiction-books-2021\",\n",
        "        \"https://www.goodreads.com/choiceawards/best-nonfiction-books-2020\",\n",
        "        \"https://www.goodreads.com/choiceawards/best-nonfiction-books-2019\"\n",
        "    ]\n",
        "}"
      ],
      "metadata": {
        "id": "eWCWr2ZAL2N9"
      },
      "execution_count": null,
      "outputs": []
    },
    {
      "cell_type": "code",
      "source": [
        "#https://www.geeksforgeeks.org/image-scraping-with-python/\n",
        "def getdata(url):\n",
        "    #https://stackoverflow.com/questions/67706387/page-404-through-python-requests-but-loads-fine-through-browser\n",
        "    headers = {\n",
        "        \"User-Agent\": \"Mozilla/5.0 (Windows NT 10.0; Win64; x64) AppleWebKit/537.36 (KHTML, like Gecko) Chrome/90.0.4430.93 Safari/537.36\"\n",
        "    }\n",
        "    r = requests.get(url, headers=headers)\n",
        "    return r.text"
      ],
      "metadata": {
        "id": "uky4iURj6CdA"
      },
      "execution_count": null,
      "outputs": []
    },
    {
      "cell_type": "code",
      "source": [
        "table_data = []\n",
        "\n",
        "# Loop through each genre and its link in the dictionary\n",
        "for genre, urls in genre_links.items():\n",
        "    for url in urls:  # Loop through each URL in the list for the current genre\n",
        "        # Fetch the webpage content\n",
        "        htmldata = getdata(url)\n",
        "        soup = BeautifulSoup(htmldata, 'html.parser')\n",
        "\n",
        "        # Find unique book cover images on the page\n",
        "        img_tags = soup.find_all('img', alt=True)\n",
        "        seen_images = set()  # Set to track unique image URLs for each page\n",
        "\n",
        "        # Loop through the image tags\n",
        "        for img in img_tags:\n",
        "            if 'src' in img.attrs and 'by' in img['alt']:  # Filter for book cover images\n",
        "                img_url = img['src']\n",
        "                if img_url not in seen_images:\n",
        "                    # Append data to the table list with genre and image URL\n",
        "                    table_data.append((genre, img_url))\n",
        "                    seen_images.add(img_url)  # Avoid duplicates\n",
        "\n",
        "# Create a DataFrame from the collected data\n",
        "df = pd.DataFrame(table_data, columns=['Genre', 'Book Cover Image URL'])\n",
        "\n",
        "print(df)\n",
        "\n",
        "df.to_csv('book_covers.csv', index=False)\n"
      ],
      "metadata": {
        "colab": {
          "base_uri": "https://localhost:8080/"
        },
        "id": "JqdqhYi98img",
        "outputId": "c0579b9e-8d92-4b2a-e868-24f153a8d429"
      },
      "execution_count": null,
      "outputs": [
        {
          "output_type": "stream",
          "name": "stdout",
          "text": [
            "           Genre                               Book Cover Image URL\n",
            "0        Fantasy  https://i.gr-assets.com/images/S/compressed.ph...\n",
            "1        Fantasy  https://i.gr-assets.com/images/S/compressed.ph...\n",
            "2        Fantasy  https://i.gr-assets.com/images/S/compressed.ph...\n",
            "3        Fantasy  https://i.gr-assets.com/images/S/compressed.ph...\n",
            "4        Fantasy  https://i.gr-assets.com/images/S/compressed.ph...\n",
            "...          ...                                                ...\n",
            "1294  Nonfiction  https://i.gr-assets.com/images/S/compressed.ph...\n",
            "1295  Nonfiction  https://i.gr-assets.com/images/S/compressed.ph...\n",
            "1296  Nonfiction  https://i.gr-assets.com/images/S/compressed.ph...\n",
            "1297  Nonfiction  https://i.gr-assets.com/images/S/compressed.ph...\n",
            "1298  Nonfiction  https://i.gr-assets.com/images/S/compressed.ph...\n",
            "\n",
            "[1299 rows x 2 columns]\n"
          ]
        }
      ]
    }
  ]
}